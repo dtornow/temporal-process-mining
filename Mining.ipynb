{
 "cells": [
  {
   "cell_type": "markdown",
   "id": "2853fe6b-ab26-4774-ab9a-fecd55942971",
   "metadata": {},
   "source": [
    "# Temporal Process Mining\n",
    "\n",
    "## Definition\n",
    "\n",
    "Process mining algorithms find a suitable process model that describes the order of events or activities that are observed during a process execution."
   ]
  },
  {
   "cell_type": "code",
   "execution_count": 24,
   "id": "f12dc057-4e72-47a5-a033-906f5707277d",
   "metadata": {},
   "outputs": [],
   "source": [
    "namespace, type = \"default\", \"Foo\""
   ]
  },
  {
   "cell_type": "markdown",
   "id": "a80fd018-f0da-41b4-975b-a50cb80c76aa",
   "metadata": {},
   "source": [
    "This notebook mines the workflow execution in namespace `namespace` of workflow type `type`"
   ]
  },
  {
   "cell_type": "code",
   "execution_count": 29,
   "id": "d21b417f-2ec7-468c-893d-f6880c3eac25",
   "metadata": {},
   "outputs": [],
   "source": [
    "# python std\n",
    "import datetime\n",
    "# google grpc\n",
    "import grpc\n",
    "# pandas\n",
    "import pandas\n",
    "# temporal\n",
    "from temporal.api.common.v1.message_pb2 import *\n",
    "from temporal.api.enums.v1.event_type_pb2 import *\n",
    "from temporal.api.workflowservice.v1.request_response_pb2 import *\n",
    "from temporal.api.workflowservice.v1.service_pb2_grpc import *\n",
    "\n",
    "wfss = WorkflowServiceStub(grpc.insecure_channel('host.docker.internal:7233'))\n",
    "\n",
    "logs = []\n",
    "\n",
    "for wfe in wfss.ScanWorkflowExecutions(ScanWorkflowExecutionsRequest(namespace=namespace, query=f\"WorkflowType='{type}'\")).executions:\n",
    "    dtl = wfss.GetWorkflowExecutionHistory(GetWorkflowExecutionHistoryRequest(namespace=namespace, execution=WorkflowExecution(workflow_id=wfe.execution.workflow_id, run_id=wfe.execution.run_id)))\n",
    "    for evt in dtl.history.events:\n",
    "        if evt.event_type == EVENT_TYPE_ACTIVITY_TASK_SCHEDULED:\n",
    "            logs.append([wfe.execution.run_id, evt.activity_task_scheduled_event_attributes.activity_type.name, datetime.datetime.fromtimestamp(evt.event_time.seconds)])\n",
    "        \n",
    "logs = pandas.DataFrame(logs, columns = [\"case:concept:name\", \"concept:name\", \"time:timestamp\"])"
   ]
  },
  {
   "cell_type": "code",
   "execution_count": 28,
   "id": "5cf7612d-57fb-4f0f-b2cd-a39949933851",
   "metadata": {},
   "outputs": [
    {
     "data": {
      "text/html": [
       "<div>\n",
       "<style scoped>\n",
       "    .dataframe tbody tr th:only-of-type {\n",
       "        vertical-align: middle;\n",
       "    }\n",
       "\n",
       "    .dataframe tbody tr th {\n",
       "        vertical-align: top;\n",
       "    }\n",
       "\n",
       "    .dataframe thead th {\n",
       "        text-align: right;\n",
       "    }\n",
       "</style>\n",
       "<table border=\"1\" class=\"dataframe\">\n",
       "  <thead>\n",
       "    <tr style=\"text-align: right;\">\n",
       "      <th></th>\n",
       "      <th>case:concept:name</th>\n",
       "      <th>concept:name</th>\n",
       "      <th>time:timestamp</th>\n",
       "    </tr>\n",
       "  </thead>\n",
       "  <tbody>\n",
       "    <tr>\n",
       "      <th>0</th>\n",
       "      <td>e8fa59ca-22e2-4bff-91c1-5fe5bb042414</td>\n",
       "      <td>Bar</td>\n",
       "      <td>2021-11-02 19:26:15</td>\n",
       "    </tr>\n",
       "    <tr>\n",
       "      <th>1</th>\n",
       "      <td>e8fa59ca-22e2-4bff-91c1-5fe5bb042414</td>\n",
       "      <td>Bar</td>\n",
       "      <td>2021-11-02 19:26:17</td>\n",
       "    </tr>\n",
       "  </tbody>\n",
       "</table>\n",
       "</div>"
      ],
      "text/plain": [
       "                      case:concept:name concept:name      time:timestamp\n",
       "0  e8fa59ca-22e2-4bff-91c1-5fe5bb042414          Bar 2021-11-02 19:26:15\n",
       "1  e8fa59ca-22e2-4bff-91c1-5fe5bb042414          Bar 2021-11-02 19:26:17"
      ]
     },
     "execution_count": 28,
     "metadata": {},
     "output_type": "execute_result"
    }
   ],
   "source": [
    "logs"
   ]
  },
  {
   "cell_type": "markdown",
   "id": "a65f0a37-f451-46d9-afab-523959dc40f5",
   "metadata": {},
   "source": [
    "\n",
    "# Process Mining\n",
    "\n",
    "From the website:\n",
    "\n",
    "Designed to be used in both academia and industry, PM4Py is the leading open source process mining platform written in Python."
   ]
  },
  {
   "cell_type": "code",
   "execution_count": null,
   "id": "7dd7becb-d8ea-4cee-aa5b-48a4c773a920",
   "metadata": {},
   "outputs": [],
   "source": [
    "import sys\n",
    "!{sys.executable} -m pip install pm4py"
   ]
  },
  {
   "cell_type": "code",
   "execution_count": 12,
   "id": "4f63e54c-6d47-497f-91cf-2f91c96e09a4",
   "metadata": {},
   "outputs": [
    {
     "data": {
      "image/svg+xml": [
       "<?xml version=\"1.0\" encoding=\"UTF-8\" standalone=\"no\"?>\n",
       "<!DOCTYPE svg PUBLIC \"-//W3C//DTD SVG 1.1//EN\"\n",
       " \"http://www.w3.org/Graphics/SVG/1.1/DTD/svg11.dtd\">\n",
       "<!-- Generated by graphviz version 2.43.0 (0)\n",
       " -->\n",
       "<!-- Title: alpha_classic_net_1635984072.1250055 Pages: 1 -->\n",
       "<svg width=\"264pt\" height=\"70pt\"\n",
       " viewBox=\"0.00 0.00 264.00 70.00\" xmlns=\"http://www.w3.org/2000/svg\" xmlns:xlink=\"http://www.w3.org/1999/xlink\">\n",
       "<g id=\"graph0\" class=\"graph\" transform=\"scale(1 1) rotate(0) translate(4 66)\">\n",
       "<title>alpha_classic_net_1635984072.1250055</title>\n",
       "<!-- 140330519477264 -->\n",
       "<g id=\"node1\" class=\"node\">\n",
       "<title>140330519477264</title>\n",
       "<polygon fill=\"#ffffff\" stroke=\"black\" points=\"151,-49 97,-49 97,-13 151,-13 151,-49\"/>\n",
       "<text text-anchor=\"middle\" x=\"124\" y=\"-27.9\" font-family=\"Times,serif\" font-size=\"12.00\">Bar (2)</text>\n",
       "</g>\n",
       "<!-- 140330517655456 -->\n",
       "<g id=\"node3\" class=\"node\">\n",
       "<title>140330517655456</title>\n",
       "<ellipse fill=\"none\" stroke=\"black\" cx=\"225\" cy=\"-31\" rx=\"27\" ry=\"27\"/>\n",
       "<ellipse fill=\"none\" stroke=\"black\" cx=\"225\" cy=\"-31\" rx=\"31\" ry=\"31\"/>\n",
       "<text text-anchor=\"start\" x=\"215\" y=\"-22.9\" font-family=\"Times,serif\" font-size=\"32.00\">■</text>\n",
       "</g>\n",
       "<!-- 140330519477264&#45;&gt;140330517655456 -->\n",
       "<g id=\"edge1\" class=\"edge\">\n",
       "<title>140330519477264&#45;&gt;140330517655456</title>\n",
       "<path fill=\"none\" stroke=\"black\" d=\"M151.01,-31C161,-31 172.64,-31 183.66,-31\"/>\n",
       "<polygon fill=\"black\" stroke=\"black\" points=\"183.96,-34.5 193.96,-31 183.96,-27.5 183.96,-34.5\"/>\n",
       "<text text-anchor=\"middle\" x=\"172.5\" y=\"-34.4\" font-family=\"Times,serif\" font-size=\"12.00\">1</text>\n",
       "</g>\n",
       "<!-- 140330517651904 -->\n",
       "<g id=\"node2\" class=\"node\">\n",
       "<title>140330517651904</title>\n",
       "<ellipse fill=\"none\" stroke=\"black\" cx=\"27\" cy=\"-31\" rx=\"27\" ry=\"27\"/>\n",
       "<text text-anchor=\"start\" x=\"16.5\" y=\"-22.3\" font-family=\"Times,serif\" font-size=\"34.00\">●</text>\n",
       "</g>\n",
       "<!-- 140330517651904&#45;&gt;140330519477264 -->\n",
       "<g id=\"edge2\" class=\"edge\">\n",
       "<title>140330517651904&#45;&gt;140330519477264</title>\n",
       "<path fill=\"none\" stroke=\"black\" d=\"M54.21,-31C64.28,-31 75.96,-31 86.81,-31\"/>\n",
       "<polygon fill=\"black\" stroke=\"black\" points=\"86.87,-34.5 96.87,-31 86.87,-27.5 86.87,-34.5\"/>\n",
       "<text text-anchor=\"middle\" x=\"75.5\" y=\"-34.4\" font-family=\"Times,serif\" font-size=\"12.00\">1</text>\n",
       "</g>\n",
       "</g>\n",
       "</svg>\n"
      ],
      "text/plain": [
       "<graphviz.dot.Digraph at 0x7fa0e9beb190>"
      ]
     },
     "execution_count": 12,
     "metadata": {},
     "output_type": "execute_result"
    }
   ],
   "source": [
    "from pm4py.algo.discovery.alpha import algorithm as alpha_miner\n",
    "from pm4py.objects.conversion.log import converter as log_converter\n",
    "from pm4py.visualization.petri_net import visualizer as pn_visualizer\n",
    "\n",
    "logs = log_converter.apply(logs)\n",
    "\n",
    "net, initial_marking, final_marking = alpha_miner.apply(logs)\n",
    "\n",
    "pn_visualizer.apply(net, initial_marking, final_marking, variant=pn_visualizer.Variants.FREQUENCY, log=log_converter.apply(logs))"
   ]
  }
 ],
 "metadata": {
  "kernelspec": {
   "display_name": "Python 3 (ipykernel)",
   "language": "python",
   "name": "python3"
  },
  "language_info": {
   "codemirror_mode": {
    "name": "ipython",
    "version": 3
   },
   "file_extension": ".py",
   "mimetype": "text/x-python",
   "name": "python",
   "nbconvert_exporter": "python",
   "pygments_lexer": "ipython3",
   "version": "3.9.7"
  }
 },
 "nbformat": 4,
 "nbformat_minor": 5
}
